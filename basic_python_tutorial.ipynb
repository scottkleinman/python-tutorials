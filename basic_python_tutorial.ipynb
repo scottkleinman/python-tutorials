{
 "cells": [
  {
   "cell_type": "markdown",
   "metadata": {},
   "source": [
    "# Welcome!\n",
    "\n",
    "Before we get started, let's get you familiar with running code in a Jupyter notebook. Take a look at the cell below, which begins with `from time import sleep`. The code in the cell just displays a message, waits 10 seconds, and then displays another message. This will give you time to observe what is happening in the notebook.\n",
    "\n",
    "Notice the small `In []:` to the left of the cell. This tells you that the cell contains some input code. When you run the cell, it will display `In [*]:`. When the code has finished running, it will display `In [1]:` The next cell will display `In [2]:`, and so on. When the code finishes, the output of whatever the code is doing will display right below the cell.  Also notice that there is a small white circle next to the words \"Python 3\" at the top right of the screen. When you are running a cell, the circle will turn grey. It will turn white again when the circle is finished.\n",
    "\n",
    "If you make a mistake, an error message will be displayed in the output section. Note that for longer code blocks, you may have to scroll to see the error, so, if something doesn't seem to be working, look for an error. Python error messages are generally pretty good about telling you what your mistake is.\n",
    "\n",
    "You can clear the output by selecting `Cell > Current Outputs > Clear` or `Cell > All Output > Clear` in the menu at the top of the notebook. There are lots of other menu items which allow you to add and delete cells, as well as to run cells.\n",
    "\n",
    "To run a cell, click on it first to select it. In addition to using the menu, you can click the `Run` button on the toolbar. However, the easiest method is to click on the cell and type `Shift+Enter`. Go ahead and try that on the cell below to see what happens.\n",
    "\n",
    "For a full tutorial on Jupyter notebooks, see Quinn Dombrowski, Tassie Gniady, and David Kloster's _[Introduction to Jupyter Notebooks](https://programminghistorian.org/en/lessons/jupyter-notebooks)_."
   ]
  },
  {
   "cell_type": "code",
   "execution_count": null,
   "metadata": {},
   "outputs": [],
   "source": [
    "from time import sleep\n",
    "print('Your code is running...')\n",
    "sleep(5)\n",
    "print('Your code has finished running.')"
   ]
  },
  {
   "cell_type": "markdown",
   "metadata": {},
   "source": [
    "If you the output displayed, \"Your code is running...\", waited 5 seconds, and then displayed \"Your code has finished running.\", you successfully ran the cell. You are now ready to use this notebook."
   ]
  },
  {
   "cell_type": "markdown",
   "metadata": {},
   "source": [
    "## Basic concepts\n",
    "\n",
    "You can do some pretty powerful stuff quite easily by copying other people's code, but you'll need to have an idea of what you are looking at when you find examples online. Once you've read through this material, you should have at your command enough of the general vocabulary of Python to be able to understand online tutorials and discussions, to adapt code samples for your own purposes, and to catch basic mistakes in your code.\n",
    "\n",
    "### Programs and Scripts\n",
    "\n",
    "In computer programming, there is no clear distinction between a \"program\" and a \"script\". Typically the latter has a smaller, less elaborate code base than the former. In the Digital Humanities, you'll hear about practioners writing scripts to accomplish certain tasks. If the code is an integrated set of functions or is accompanied by a web-based or graphic user interface (GUI), it is more likely to be referred to as a tool. (Sometimes the term \"app\" is used, but the term has not caught on as much in the Digital Humanities.) \n",
    "\n",
    "### Python Packages (Modules)\n",
    "\n",
    "In Python, you use \"functions\" to perform operations. For example, the `print()` function prints whatever message inside the parentheses to the screen. Python has a standard \"library\" of functions (called the standard library) like `print()`, which can be \"called\" out of the box. It is also possible to import libraries of functions, which are called \"packages\" or \"modules\", into your code. These packages are not part of Python; they are more like plugins. Some Python packages like `time` have to be imported; they are not available by default in order to save memory. Other Python packages are designed by third-party contributors. These generally have to be installed in your Python distribution before they can be imported to your script.Python \"distributions\" like Anaconda come with many common third-party packages pre-installed to save you time.\n",
    "\n",
    "Once a package is available your distribution, you can import it with a command like `import PACKAGE_NAME` (where `PACKAGE_NAME` represents the name of the package). In the example above, we used `from time import sleep`. Instead of importing the whole `time` package, we simply imported the `sleep` function from its library.\n",
    "\n",
    "You won't be importing packages much in this tutorial. The main purpose of this section is just to get you familiar with the concept and terminology.\n"
   ]
  },
  {
   "cell_type": "markdown",
   "metadata": {},
   "source": [
    "## Data Types\n",
    "\n",
    "In most programming languages, content is categorised into types of data, each of which has its own set of behaviours. In particular, some functions can only operate with certain data types. In Python, some of the most common types of content are *integers*, *floats*, *strings*, *lists*, and *dictionaries* (also known as \"dicts\"). The data type of any piece of data is defined using delimiter symbols:\n",
    "\n",
    "- *strings*: enclosed in apostrophes or quotation marks (e.g. `'John'` or `\"John\"`).\n",
    "- *integers* and *floats*: no delimiters (e.g. `100`, `3.14`)\n",
    "- *lists*: enclosed in square brackets (e.g. `[1, 2]` or `['Jack', 'Jill']`).\n",
    "- *dicts*: enclosed in curly brackets (e.g. {'Jack': 1}).\n",
    "\n",
    "We'll look at each of these datatypes in the cells below."
   ]
  },
  {
   "cell_type": "markdown",
   "metadata": {},
   "source": [
    "### Strings\n",
    "\n",
    "Strings contain alphanumeric data &mdash; that is, either numbers or letters, as well as punctuation marks. Strings are delimited either by single or double quotation marks. So  `'hello'` and `\"hello\"` are exactly the same. In this tutorial, single quotation marks will be used for consistency (and also because that is a recommendation of a prominent Python code style guide). Quotation marks inside of apostrophe delimiters will be interpreted as part of the string, as will apostrophes inside quotation mark delimiters. For example, you could encode the sentence *He said, \"We are ready.\"* as `'He said, \"We are ready.\"'`\n",
    "\n",
    "There are a number of gotchas when dealing with strings. First, curly quotes or smart quotes are not interpreted as quotation marks by Python; they will be treated as characters in the string. So be warned if you try to copy code from a document with curly quotes. You are likely to get an error.\n",
    "\n",
    "Some strings may contain apostrophes or quotation marks that are part of the string, not delimiter symbols. Take, for example, the sentence _We're ready._. Coding this as `'We're ready.'` will generate an error because Python will interpret the second apostrophe as a delimiter, ending the string. An obvious way around this problem is to use double quotation marks as the delimiters: `'We're ready.\"`. That works. But what if you wanted to use the sentence _He said, \"We're ready.\"_? For this sentence you will probably want to use a method called \"escaping\" the ambiguous punctuation mark. In Python, characters like this are normall escaped with a preceding backslash. Here is any easy way to fix the problem: `'He said, \"We\\'re ready.\"'`. The backslash before the apostrophe tells Python not to interpret it as a string delimiter.\n",
    "\n",
    "Take some time in the cell below to practice typing strings using various delimiters. In Jupyter notebooks, the last line will be printed automatically in the output."
   ]
  },
  {
   "cell_type": "code",
   "execution_count": null,
   "metadata": {},
   "outputs": [],
   "source": [
    "'Hello world.'"
   ]
  },
  {
   "cell_type": "markdown",
   "metadata": {},
   "source": [
    "### Numbers\n",
    "\n",
    "Various types of numbers are recognised by Python. The most important types are floats, which can have decimal points, and integers, which cannot. The standard library contains functions to convert one to the other. Their different behaviours mostly become important when you are performing mathematical operations.\n",
    "\n",
    "Mathematical operators are symbols like `+` and `-` that tell Python what operations to perform. As you can imagine, they indicate \"add\" and \"subtract\" respectively. Other mathematical operators are `*` (multiply) and `/` (divide). It is not necessary to put spaces around the operators, but it is generally good coding style.\n",
    "\n",
    "For a fuller (but still digestible) description of mathematical operators, see [Basic Math Operators in Python](https://codingexplained.com/coding/python/basic-math-operators-in-python).\n",
    "\n",
    "Try out some mathematical operations in the cell below."
   ]
  },
  {
   "cell_type": "code",
   "execution_count": null,
   "metadata": {},
   "outputs": [],
   "source": [
    "1 + 1"
   ]
  },
  {
   "cell_type": "markdown",
   "metadata": {},
   "source": [
    "### Lists\n",
    "\n",
    "Lists are comma-separated items belonging to other data types such as numbers or strings, as in the examples above. You can also have lists of dictionaries, or even lists of lists. Items in lists are stored in a strict order, and each item has an index number. Like most programming languages, Python uses zero-indexing, so the first item in the list will have the index number 0. You can reference items in a list by giving its number in square brackets. For instance, if you had a list called `my_list`, you could get the first item in the list with `my_list[0]`.\n",
    "\n",
    "Note that strings are really lists of letters. You can see this if you try the following code:\n",
    "\n",
    "```python\n",
    "\"Hello\"[0]\n",
    "```\n",
    "The output will be \"H\".\n",
    "\n",
    "After running the cell below, try creating some lists of your own using different strings or numbers. Then re-run the cell.\n"
   ]
  },
  {
   "cell_type": "code",
   "execution_count": null,
   "metadata": {},
   "outputs": [],
   "source": [
    "\"Hello\"[0]"
   ]
  },
  {
   "cell_type": "markdown",
   "metadata": {},
   "source": [
    "### Dictionaries (also called Dicts)\n",
    "\n",
    "Dictionaries are like lists, except that each item is a key-value pair (separated by a colon). A common use of dictionaries is to contain word counts. Consider this dictionary: `{'Jack': 1, 'Jill': 2}`. This might be used to indicate that the word \"Jack\" occurs once and the word \"Jill\" occurs twice.\n",
    "\n",
    "Items in dictionaries are not stored in order, so they must be referenced by their keys. In order to illustrate this, we need to save our dict to a _variable_ a concept that will be explained in full below. We'll call our variable `word_counts`. We can then find the number of times \"Jill\" occurs by calling `word_counts['Jill']`. Try running the cell below to demonstrate this. Then experiment with creating your own dicts and re-run the cell."
   ]
  },
  {
   "cell_type": "code",
   "execution_count": null,
   "metadata": {},
   "outputs": [],
   "source": [
    "word_counts = {'Jack': 1, 'Jill': 2}\n",
    "\n",
    "print(word_counts)\n",
    "\n",
    "print(word_counts['Jill'])"
   ]
  },
  {
   "cell_type": "markdown",
   "metadata": {},
   "source": [
    "### Concatenation\n",
    "\n",
    "Two strings can be combined, or _concatenated_, with the use of the `+` sign. For example, `'John ' + 'Smith'` will produce the string `'John Smith'`.\n",
    "\n",
    "Note that this is different from the mathematical operator `+`, which adds two numbers mathematically. Numbers cannot be concatenated with string unless you first \"cast\" them as a string with Python's `str()` function. For instance, `'John ' + 'Smith' + str(1)` will produce the string `'John Smith1'`.\n",
    "\n",
    "Two lists can also be combined through concatenation. For instance, `[1, 2, 3] + [4, 5, 6]` would produce `[1, 2, 3, 4, 5, 6]`."
   ]
  },
  {
   "cell_type": "code",
   "execution_count": null,
   "metadata": {},
   "outputs": [],
   "source": [
    "'John ' + 'Smith' + str(1)"
   ]
  },
  {
   "cell_type": "markdown",
   "metadata": {},
   "source": [
    "### Variables\n",
    "\n",
    "A variable is a container for some data of any type. This container is referenced by a label or variable name. The content, or _value_, of a variable is assigned to the variable name using the `=` sign. For instance, `firstname = 'John'` would assign the string `'John'` to the variable `firstname`. If you also assigned `lastname = 'Smith'`, then `firstname + ' ' + lastname` would produce the string `'John Smith'`. In some cases, you have to create the variable before you assign a value to it. For instance, you might create an empty list like `my_list = []`.\n",
    "\n",
    "Once you have assigned a value to a variable name, you can reference it by the variable name in your subsequent code. This is what we did with the `word_counts` variable in the discussion of dictionaries above.\n",
    "\n",
    "You can name variables whatever you want, although they cannot have spaces or punctuation marks. It is good coding style to make variable names short and descriptive of the values they are storing. As in the case of `word_counts`, it is conventional to use the underscore `_` where you might use a space in ordinary English.\n",
    "\n",
    "In the cell below. Try assigning some values of different datatypes to variables. So that the Jupyter notebook does not only display the last one, print each variable using the function `print(VARIABLE_NAME)`."
   ]
  },
  {
   "cell_type": "code",
   "execution_count": null,
   "metadata": {},
   "outputs": [],
   "source": [
    "greeting = 'Hello world.'\n",
    "print(greeting)"
   ]
  },
  {
   "cell_type": "markdown",
   "metadata": {},
   "source": [
    "### Functions\n",
    "\n",
    "We've already seen the use of the `print()` and `str()` functions. Now let's explore the concept of a function a little more formally.\n",
    "\n",
    "A function is a command to do something with one of the data types and send back (or \"return\") a result. When functions form part of larger libraries, they are often called \"methods\". Since `print()` and `str()` are part of the standard library, they are often referred to as the `print()` and `str()` methods.\n",
    "\n",
    "Functions are called by using the name of the function (e.g. `print`) followed by parentheses containing the data to be passed to the function. So `print('Hello world.')` passes \"Hello world.\" to the `print()` function.  The value in parentheses is called the _argument_ or _parameter_. You can use a variable as the argument of a function. For instance, if you defined `my_var = 1`, you could then use `str(my_var)` to convert `1` to a `'1'`. Another example is the `append()` function, which adds an item to the end of a list. For instance, you could add the number 1 to the `my_list` created above: `my_list.append(1)`.\n",
    "\n",
    "As mentioned earlier, Python has a set of built-in functions like `str()` and `append()`, and more functions can be imported from packages. However, sometimes you will want to define your own. Functions are defined by using the keyword `def` followed by the name of the function and (generally) one or more variable names to be used for the data that is passed to the function. Here's a small script to show how this is done.\n",
    "\n",
    "```python\n",
    "my_list = []\n",
    "\n",
    "def append_to_list_and_print(item):\n",
    "\tmy_list.append(item)\n",
    "\tprint(my_list)\n",
    "\n",
    "append_to_list_and_print('John')\n",
    "append_to_list_and_print(1)\n",
    "```\n",
    "\n",
    "The script starts with an empty list. It then defines a function called `append_to_list_and_print()`. This function combines the actions of appending to the list whatever item is passed to the function and then printing the results. The script then \"calls\" the function twice, first using the name John and then again using the number 1. Inside the function, we don't have to save these values with the variable name `item`; we can call that variable whatever seems like an adequate description of the value being passed to the function.\n",
    "\n",
    "Try out our function in the cell below.\n"
   ]
  },
  {
   "cell_type": "code",
   "execution_count": null,
   "metadata": {},
   "outputs": [],
   "source": [
    "my_list = []\n",
    "\n",
    "def append_to_list_and_print(item):\n",
    "    my_list.append(item)\n",
    "    print(my_list)\n",
    "\n",
    "append_to_list_and_print('John')\n",
    "append_to_list_and_print(1)"
   ]
  },
  {
   "cell_type": "markdown",
   "metadata": {},
   "source": [
    "Notice that the `append_to_list_and_print()` function is really only a convenience. We don't *have to* define a function to append values to `my_list` and then print the list. We could just repeat the action for each item like this:\n",
    "\n",
    "```python\n",
    "my_list = []\n",
    "my_list.append('John')\n",
    "print(my_list)\n",
    "my_list.append(1)\n",
    "print(my_list)\n",
    "```\n",
    "\n",
    "However, performing this procedure in a function avoids repeating code and keeps our code organised.\n",
    "\n",
    "It is useful to look at one more example:\n",
    "\n",
    "```python\n",
    "def convert_number(item):\n",
    "\titem = str(item)\n",
    "\treturn item\n",
    "\n",
    "my_numeric_string = convert_number(1)\n",
    "print(my_numeric_string)\n",
    "```\n",
    "\n",
    "This wins the award for the most pointless function ever. You can achieve the same result with `my_numeric_string = str(1)`. But the `convert_number()` function does illustrate an important point. The result of a function can be \"returned\" to the main code block with the `return` command, and this can be assigned to a new variable, here called `my_numeric_string`. You can run a slightly modified version of `convert_number()` in the cell below."
   ]
  },
  {
   "cell_type": "code",
   "execution_count": null,
   "metadata": {},
   "outputs": [],
   "source": [
    "def convert_number(item):\n",
    "    \"\"\"Return the output of the Python string() function.\"\"\"\n",
    "    return str(item)\n",
    "\n",
    "my_numeric_string = convert_number(1)\n",
    "print(my_numeric_string)"
   ]
  },
  {
   "cell_type": "markdown",
   "metadata": {},
   "source": [
    "Notice the two changes here. First, in the original version of the function we used `str()` to convert `item` to a string and then saved the value back to the variable `item` before returning it. Technically, we don't need to perform that saving function. We can just return the value returned by `str()`, which makes our code more efficient and concise.\n",
    "\n",
    "Second, we have place a description of what the function does inside delimeters consisting of three quotation marks. This is called a _docstring_. It is good practice to document your functions in this way. Note that the contents of the docstring are for _human_ readers of the code. They are not processed by Python and will change what the function does in any way."
   ]
  },
  {
   "cell_type": "markdown",
   "metadata": {},
   "source": [
    "### Indentation\n",
    "\n",
    "In Python, code that is part of a function must be indented by four spaces. Some editors may be set to treat a tab as equivalent to four spaces; this is something you can test. If you get the indentation wrong, you will receive an error. If you are used to other coding languages which use curly braces to enclose the contents of functions, it may take some time to get used to the fact that indentation matters in Python."
   ]
  },
  {
   "cell_type": "markdown",
   "metadata": {},
   "source": [
    "### Loops\n",
    "\n",
    "A loop is a function that iterates through items in (typically) a list. Here is an example:\n",
    "\n",
    "```python\n",
    "my_list = [1, 2, 3]\n",
    "for item in my_list:\n",
    "\titem = 'item' + str(item)\n",
    "\tprint(item)\n",
    "```\n",
    "The `for` loop goes through each number in the list (temporarily stored with the variable name `item`), concatenates it with the string `'item'` after first converting the number to a string, and then prints the result.\n",
    "\n",
    "Notice the way the loop in constructed: `for VARIABLE_NAME in LIST_NAME:`, followed by an indented block of code that is executed before the next item in the list is passed to `VARIABLE_NAME`. Note also the colon before the indented block.\n",
    "\n",
    "Python has more specialised methods of looping through lists, as well as methods of looping through the key-value pairs of dictionaries. These methods can be learnt easily through Google searches. In the meantime, you can try running the code above in the following cell.\n"
   ]
  },
  {
   "cell_type": "code",
   "execution_count": null,
   "metadata": {},
   "outputs": [],
   "source": [
    "my_list = [1, 2, 3]\n",
    "for item in my_list:\n",
    "    item = 'item' + str(item)\n",
    "    print(item)"
   ]
  },
  {
   "cell_type": "markdown",
   "metadata": {},
   "source": [
    "Here's a little taster of a particularly \"Pythonic\" method of doing this called a \"list comprehension\". Run the cell below to see how it does something similar to the code you just ran. In this case, we only want to convert the numbers to strings and not print each one on a separate line; instead, we want to save the result as a new list."
   ]
  },
  {
   "cell_type": "code",
   "execution_count": null,
   "metadata": {},
   "outputs": [],
   "source": [
    "my_numeric_list = [1, 2, 3]\n",
    "print(my_numeric_list)\n",
    "\n",
    "my_string_list = [str(item) for item in my_numeric_list]\n",
    "print(my_string_list)"
   ]
  },
  {
   "cell_type": "markdown",
   "metadata": {},
   "source": [
    "We can even make this a function!"
   ]
  },
  {
   "cell_type": "code",
   "execution_count": null,
   "metadata": {},
   "outputs": [],
   "source": [
    "def convert_list(my_list):\n",
    "    \"\"\"Return a new list with each item converted to a string.\"\"\"\n",
    "    return [str(item) for item in my_list]\n",
    "\n",
    "my_string_list = convert_list(my_numeric_list)\n",
    "\n",
    "print(my_string_list)\n",
    "\n",
    "more_numbers = [4, 5, 6]\n",
    "my_string_list = my_string_list + convert_list(more_numbers)\n",
    "\n",
    "print(my_string_list)"
   ]
  },
  {
   "cell_type": "markdown",
   "metadata": {},
   "source": [
    "Here we are running `convert_list()` on our pre-existing `numeric_list` variable. We are then creating a new list and directly concatenating our string list with the results of `convert_list` on our new list.\n",
    "\n",
    "As another taster, let's see how we might iterate through a dictionary. For this we need to use the `items()` method."
   ]
  },
  {
   "cell_type": "code",
   "execution_count": null,
   "metadata": {},
   "outputs": [],
   "source": [
    "word_counts = {'Jack': 1, 'Jill': 2}\n",
    "\n",
    "for key, value in word_counts.items():\n",
    "    print(key + '=' + str(value))"
   ]
  },
  {
   "cell_type": "markdown",
   "metadata": {},
   "source": [
    "Notice that because we are concatenating a string and an integer in our output, we need to cast the value as a string. As with lists, the temporary variables `key` and `value` don't have to be called that. It is just a convention."
   ]
  },
  {
   "cell_type": "markdown",
   "metadata": {},
   "source": [
    "### Conditionals\n",
    "\n",
    "Let's modfy the code above by adding some conditional logical. Let's say we only wanted to print names that occur more than once. We can do this with an `if` clause. It is constructed exactly like a `for...in` clause with the colon and the indented code block."
   ]
  },
  {
   "cell_type": "code",
   "execution_count": null,
   "metadata": {},
   "outputs": [],
   "source": [
    "for key, value in word_counts.items():\n",
    "    if value > 1:\n",
    "        print(key + '=' + str(value))"
   ]
  },
  {
   "cell_type": "markdown",
   "metadata": {},
   "source": [
    "We've silently introduced the `>` (greater than) operator in the code above. What if we wanted to print only names where the word count _equals_ 1. We can't use `=` because that assigns a value to a variable. Instead, we have to use `==`. Try changing `>` to `==` in the cell above, re-run the cell, and examine the results.\n",
    "\n",
    "`if` clauses can also be accompanied by an `else` clause, as in the example below."
   ]
  },
  {
   "cell_type": "code",
   "execution_count": null,
   "metadata": {},
   "outputs": [],
   "source": [
    "for key, value in word_counts.items():\n",
    "    if value == 1:\n",
    "        print(key + ' occurs only once in our text.')\n",
    "    else:\n",
    "        print(key + ' occurs multiple times in our text.')\n"
   ]
  },
  {
   "cell_type": "markdown",
   "metadata": {},
   "source": [
    "There are lots of ways to do much more sophisticated conditional logic, but this is sufficient for your basic knowledge."
   ]
  },
  {
   "cell_type": "markdown",
   "metadata": {},
   "source": [
    "### Comments\n",
    "\n",
    "Let's assume that your logic _does_ become more complicated. As this happens, your code will become increasingly complex and hard to read. One way to make life easier is to _comment_ you code. That is, provide descriptions of what exactly the code is doing that are useful for human readers but will be ignored by the Python processor (like a docstring).\n",
    "\n",
    "Most programming languages have a method for doing this. In Python, comments are indicated by a preceding `#`. Anything with this preceding hash will be ignored. Let's try re-writing the cell above with some comments. When you run the cell, it should do exactly the same thing as the preceding one."
   ]
  },
  {
   "cell_type": "code",
   "execution_count": null,
   "metadata": {},
   "outputs": [],
   "source": [
    "# Loop through the word counts\n",
    "for key, value in word_counts.items():\n",
    "    \n",
    "    # If the count is 1, print out a message to that effect\n",
    "    if value == 1:\n",
    "        print(key + ' occurs only once in our text.')\n",
    "        \n",
    "    # Otherwise, print out a message that there are multiple occurrences\n",
    "    else:\n",
    "        print(key + ' occurs multiple times in our text.')"
   ]
  },
  {
   "cell_type": "markdown",
   "metadata": {},
   "source": [
    "Now we know exactly what each block of code is doing. In Jupyter notebooks, there is a shortcut for commenting and uncommenting lines of code: select the lines and then click `Control + /` (Windows) or `Command + /` (Mac). The selected lines will be commented or uncommented. Try this on the `else` clause above and re-run the cell.\n",
    "\n",
    "Commenting and uncommenting actual lines of code can be very useful for de-bugging errors in your code."
   ]
  },
  {
   "cell_type": "markdown",
   "metadata": {},
   "source": [
    "### Introduction to JSON\n",
    "\n",
    "We'll end with a bit of candy to let you play around with the Python `json` module. Imagine you had a web page with a login form, and you wanted to send the username and password to be checked using Python. A common way to do this is by using a programming language that is built into all web browsers called Javascript. It is logical to store the username and password into something like a Python dict that looks like `{'username': 'admin', 'password': '1234'}` (you would never use these values, of course!). In Javascript, this type of structure is called an \"object\". Javascript objects can be cast as strings and then sent to a server running Python, where the strings can be converted to Python dicts. Web applications often send large amounts of data \"serialised\" (converted to one long string) in this way.\n",
    "\n",
    "There are various types of serialisation formats, but a very common one is based on howe Javascript objects are constructed. This is called JSON, which stands for Javascript Object Notation. It looks and behaves pretty much like a Python dict with one major gotcha. Keys and values have to be in double quotation marks. (There are a few other differences as well, but this is the most obvious). So, if we want to send or manipulate data serialised in JSON format, we need to parse it into a Python dict. Likewise, if we want to, for instance, send the material in a Python dict back to the web browers, we first serialise it into JSON format. The use of JSON is common enough in Digital Humanities projects, that I think it is worth bringing it to your attention in a basic tutorial.\n",
    "\n",
    "That said, the main purpose of using JSON here will simply be to illustrate how to import and use a module that is not part of the standard library. Python has a `json` module that helps us work with JSON. Try running the code below."
   ]
  },
  {
   "cell_type": "code",
   "execution_count": null,
   "metadata": {},
   "outputs": [],
   "source": [
    "# Import the json module\n",
    "import json\n",
    "\n",
    "# Define a dict and print it\n",
    "sample_dict = {'Jack': 1, 'Jill': 2}\n",
    "print(sample_dict)\n",
    "\n",
    "# Print a line break\n",
    "print('\\n')\n",
    "\n",
    "# Convert the dict to json format and print it -- notice the only difference is the quotation marks!\n",
    "serialised_dict = json.dumps(sample_dict)\n",
    "print(serialised_dict)\n",
    "\n",
    "# Print a line break\n",
    "print('\\n')\n",
    "\n",
    "# Repeat the above, but this time apply some formatting\n",
    "serialised_dict = json.dumps(sample_dict, indent=2)\n",
    "print(serialised_dict)\n",
    "\n",
    "# Print a line break\n",
    "print('\\n')\n",
    "\n",
    "# Now convert the json string back to a Python dict\n",
    "copy_of_sample_dict = json.loads(serialised_dict)\n",
    "print(copy_of_sample_dict)\n"
   ]
  },
  {
   "cell_type": "markdown",
   "metadata": {},
   "source": [
    "Hopefully the comments above are sufficient for you to see what is happening. We are first importing the json module, which has two methods: `dumps()` (dump a dict to a json string) and `loads()` (load a json string to a Python dict). We call these with `json.dumps()` and `json.loads()`. Notice that we might have our own `dumps()` and `loads()` functions, but Python knows to use the ones from the `json` module by our use of the \"dot\" notation."
   ]
  },
  {
   "cell_type": "markdown",
   "metadata": {},
   "source": [
    "### What Next?\n",
    "\n",
    "At this point, you should have a pretty good command of the basics of Python &mdash; enough to start learning how to do useful things by Googling or trying out other tutorials. This tutorial will soon be followed by additional tutorials showing how you might use Python to study literature. If you want to run Python on your own computer, rather than in the cloud, there are instructions for installing the Anaconda distribution [here](how-to-install-anaconda.md). Stay tuned for more.\n",
    "\n",
    "There are now some rough notebooks to allow you to play with some more sophisticated Python tools. To try them out, start with <a href=\"playing_with_python_libraries.ipynb\" target=\"_blank\">Playing with Python Libraries</a>.\n"
   ]
  },
  {
   "cell_type": "code",
   "execution_count": null,
   "metadata": {},
   "outputs": [],
   "source": []
  }
 ],
 "metadata": {
  "file_extension": ".py",
  "kernelspec": {
   "display_name": "Python 3",
   "language": "python",
   "name": "python3"
  },
  "language_info": {
   "codemirror_mode": {
    "name": "ipython",
    "version": 3
   },
   "file_extension": ".py",
   "mimetype": "text/x-python",
   "name": "python",
   "nbconvert_exporter": "python",
   "pygments_lexer": "ipython3",
   "version": "3.7.4"
  },
  "mimetype": "text/x-python",
  "name": "python",
  "npconvert_exporter": "python",
  "pygments_lexer": "ipython3",
  "version": 3
 },
 "nbformat": 4,
 "nbformat_minor": 4
}
