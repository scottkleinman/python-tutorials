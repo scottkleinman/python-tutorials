{
 "cells": [
  {
   "cell_type": "markdown",
   "metadata": {},
   "source": [
    "## Playing with Python Libraries\n",
    "\n",
    "In this notebook, we will play with some Python libraries to perform some common tasks. W1 will:\n",
    "\n",
    "1. Use `requests` and `BeautifulSoup` to scrape a web page.\n",
    "2. Analyse the text using the `spaCy` natural language processing library.\n",
    "3. View the results in tables using `pandas`."
   ]
  },
  {
   "cell_type": "code",
   "execution_count": 163,
   "metadata": {},
   "outputs": [],
   "source": [
    "# Import requests and BeautifulSoup\n",
    "import requests\n",
    "from bs4 import BeautifulSoup\n",
    "\n",
    "# The web page to scrape\n",
    "url = 'https://www.fanfiction.net/s/6041872/1/Broken'\n",
    "\n",
    "# The requests library sends an HTTP request and returns a response\n",
    "response = requests.get(url)\n",
    "\n",
    "# BeautifulSoup converts the web page to a list of elements\n",
    "soup = BeautifulSoup(response.text, 'html.parser')\n",
    "\n",
    "# We're going to guess where the content we want is in the page.\n",
    "# You may have to change this, depending on how the page is organised.\n",
    "content = soup.find('#storytext')"
   ]
  },
  {
   "cell_type": "code",
   "execution_count": 164,
   "metadata": {},
   "outputs": [
    {
     "name": "stdout",
     "output_type": "stream",
     "text": [
      "Broken Elrond's earliest memories were of screams and smoke. The screams rose up from the battle, ringing loud and harsh in his young ears. The smoke billowed thick and heavy as Sirion burned, and when combined with Elros's rigid hold, the ash in the air made breathing difficult. His brother clutched him so tightly his ribs ached, but Elrond's own arms were wrapped just as tightly around Elros. They huddled together atop the cliffs overlooking the Sea, and they trembled in the darkness as their ...\n"
     ]
    }
   ],
   "source": [
    "# Now that we have the content, let's get all the paragraph tags\n",
    "# and join them into a single string.\n",
    "content = soup.find_all('p')\n",
    "paras = [p.text for p in content[2:]]\n",
    "text = ' '.join(paras)\n",
    "\n",
    "print(text[0:500] + '...')"
   ]
  },
  {
   "cell_type": "code",
   "execution_count": 166,
   "metadata": {},
   "outputs": [
    {
     "name": "stdout",
     "output_type": "stream",
     "text": [
      "Broken Broken PROPN NNP compound Xxxxx True False\n",
      "Elrond Elrond PROPN NNP poss Xxxxx True False\n",
      "'s 's PART POS case 'x False True\n",
      "earliest early ADJ JJS amod xxxx True False\n",
      "memories memory NOUN NNS nsubj xxxx True False\n"
     ]
    }
   ],
   "source": [
    "# Import the spaCy Natural Language Processing (NLP) library\n",
    "import spacy\n",
    "\n",
    "# Load spaCy's language model\n",
    "nlp = spacy.load('en_core_web_sm')\n",
    "\n",
    "# Process our text into a spaCy document\n",
    "doc = nlp(text)\n",
    "\n",
    "# Get some linguistic features\n",
    "for token in doc[0:5]:\n",
    "    print(token.text, token.lemma_, token.pos_, token.tag_, token.dep_,\n",
    "            token.shape_, token.is_alpha, token.is_stop)"
   ]
  },
  {
   "cell_type": "markdown",
   "metadata": {},
   "source": [
    "That looks like it has some useful information, but it is hard to read!\n",
    "\n",
    "Time to play with pandas dataframes. A dataframe is a structure for holding data that can be easily viewed in a table. It's basically Excel for Python.\n",
    "\n",
    "We are going to assume that each token in a spaCy doc is a set of features (lemma, part of speech, etc.), and we want each token in its own row and each feature in its own column. To do this, we'll create a list of features with the features for each token in a dict. The dict keys will be the column names. Once we massage our data into that format, we can create the dataframe."
   ]
  },
  {
   "cell_type": "code",
   "execution_count": 173,
   "metadata": {},
   "outputs": [
    {
     "data": {
      "text/html": [
       "<div>\n",
       "<style scoped>\n",
       "    .dataframe tbody tr th:only-of-type {\n",
       "        vertical-align: middle;\n",
       "    }\n",
       "\n",
       "    .dataframe tbody tr th {\n",
       "        vertical-align: top;\n",
       "    }\n",
       "\n",
       "    .dataframe thead th {\n",
       "        text-align: right;\n",
       "    }\n",
       "</style>\n",
       "<table border=\"1\" class=\"dataframe\">\n",
       "  <thead>\n",
       "    <tr style=\"text-align: right;\">\n",
       "      <th></th>\n",
       "      <th>token</th>\n",
       "      <th>norm</th>\n",
       "      <th>lemma</th>\n",
       "      <th>pos</th>\n",
       "      <th>stopword</th>\n",
       "    </tr>\n",
       "  </thead>\n",
       "  <tbody>\n",
       "    <tr>\n",
       "      <td>0</td>\n",
       "      <td>Broken</td>\n",
       "      <td>broken</td>\n",
       "      <td>Broken</td>\n",
       "      <td>PROPN</td>\n",
       "      <td>False</td>\n",
       "    </tr>\n",
       "    <tr>\n",
       "      <td>1</td>\n",
       "      <td>Elrond</td>\n",
       "      <td>elrond</td>\n",
       "      <td>Elrond</td>\n",
       "      <td>PROPN</td>\n",
       "      <td>False</td>\n",
       "    </tr>\n",
       "    <tr>\n",
       "      <td>2</td>\n",
       "      <td>'s</td>\n",
       "      <td>'s</td>\n",
       "      <td>'s</td>\n",
       "      <td>PART</td>\n",
       "      <td>True</td>\n",
       "    </tr>\n",
       "    <tr>\n",
       "      <td>3</td>\n",
       "      <td>earliest</td>\n",
       "      <td>earliest</td>\n",
       "      <td>early</td>\n",
       "      <td>ADJ</td>\n",
       "      <td>False</td>\n",
       "    </tr>\n",
       "    <tr>\n",
       "      <td>4</td>\n",
       "      <td>memories</td>\n",
       "      <td>memories</td>\n",
       "      <td>memory</td>\n",
       "      <td>NOUN</td>\n",
       "      <td>False</td>\n",
       "    </tr>\n",
       "    <tr>\n",
       "      <td>5</td>\n",
       "      <td>were</td>\n",
       "      <td>were</td>\n",
       "      <td>be</td>\n",
       "      <td>AUX</td>\n",
       "      <td>True</td>\n",
       "    </tr>\n",
       "    <tr>\n",
       "      <td>6</td>\n",
       "      <td>of</td>\n",
       "      <td>of</td>\n",
       "      <td>of</td>\n",
       "      <td>ADP</td>\n",
       "      <td>True</td>\n",
       "    </tr>\n",
       "    <tr>\n",
       "      <td>7</td>\n",
       "      <td>screams</td>\n",
       "      <td>screams</td>\n",
       "      <td>scream</td>\n",
       "      <td>NOUN</td>\n",
       "      <td>False</td>\n",
       "    </tr>\n",
       "    <tr>\n",
       "      <td>8</td>\n",
       "      <td>and</td>\n",
       "      <td>and</td>\n",
       "      <td>and</td>\n",
       "      <td>CCONJ</td>\n",
       "      <td>True</td>\n",
       "    </tr>\n",
       "    <tr>\n",
       "      <td>9</td>\n",
       "      <td>smoke</td>\n",
       "      <td>smoke</td>\n",
       "      <td>smoke</td>\n",
       "      <td>NOUN</td>\n",
       "      <td>False</td>\n",
       "    </tr>\n",
       "  </tbody>\n",
       "</table>\n",
       "</div>"
      ],
      "text/plain": [
       "      token      norm   lemma    pos  stopword\n",
       "0    Broken    broken  Broken  PROPN     False\n",
       "1    Elrond    elrond  Elrond  PROPN     False\n",
       "2        's        's      's   PART      True\n",
       "3  earliest  earliest   early    ADJ     False\n",
       "4  memories  memories  memory   NOUN     False\n",
       "5      were      were      be    AUX      True\n",
       "6        of        of      of    ADP      True\n",
       "7   screams   screams  scream   NOUN     False\n",
       "8       and       and     and  CCONJ      True\n",
       "9     smoke     smoke   smoke   NOUN     False"
      ]
     },
     "execution_count": 173,
     "metadata": {},
     "output_type": "execute_result"
    }
   ],
   "source": [
    "# Import pandas\n",
    "import pandas as pd\n",
    "\n",
    "# Load the document features into a dict\n",
    "features = []\n",
    "for token in doc:\n",
    "    feature = {\n",
    "        'token': token.text,\n",
    "        'norm': token.norm_,\n",
    "        'lemma': token.lemma_,\n",
    "        'pos': token.pos_,\n",
    "        'stopword': token.is_stop\n",
    "    }\n",
    "    features.append(feature)\n",
    "\n",
    "# Create a pandas dataframe\n",
    "df = pd.DataFrame(features, columns=['token', 'norm', 'lemma', 'pos', 'stopword'])\n",
    "df.head(10)"
   ]
  },
  {
   "cell_type": "code",
   "execution_count": 177,
   "metadata": {},
   "outputs": [
    {
     "data": {
      "text/html": [
       "<div>\n",
       "<style scoped>\n",
       "    .dataframe tbody tr th:only-of-type {\n",
       "        vertical-align: middle;\n",
       "    }\n",
       "\n",
       "    .dataframe tbody tr th {\n",
       "        vertical-align: top;\n",
       "    }\n",
       "\n",
       "    .dataframe thead th {\n",
       "        text-align: right;\n",
       "    }\n",
       "</style>\n",
       "<table border=\"1\" class=\"dataframe\">\n",
       "  <thead>\n",
       "    <tr style=\"text-align: right;\">\n",
       "      <th></th>\n",
       "      <th>token</th>\n",
       "      <th>norm</th>\n",
       "      <th>lemma</th>\n",
       "      <th>pos</th>\n",
       "      <th>stopword</th>\n",
       "    </tr>\n",
       "  </thead>\n",
       "  <tbody>\n",
       "    <tr>\n",
       "      <td>893</td>\n",
       "      <td>!</td>\n",
       "      <td>!</td>\n",
       "      <td>!</td>\n",
       "      <td>PUNCT</td>\n",
       "      <td>False</td>\n",
       "    </tr>\n",
       "    <tr>\n",
       "      <td>1913</td>\n",
       "      <td>\"</td>\n",
       "      <td>\"</td>\n",
       "      <td>\"</td>\n",
       "      <td>PUNCT</td>\n",
       "      <td>False</td>\n",
       "    </tr>\n",
       "    <tr>\n",
       "      <td>8463</td>\n",
       "      <td>\"</td>\n",
       "      <td>\"</td>\n",
       "      <td>\"</td>\n",
       "      <td>PUNCT</td>\n",
       "      <td>False</td>\n",
       "    </tr>\n",
       "    <tr>\n",
       "      <td>8470</td>\n",
       "      <td>\"</td>\n",
       "      <td>\"</td>\n",
       "      <td>\"</td>\n",
       "      <td>PUNCT</td>\n",
       "      <td>False</td>\n",
       "    </tr>\n",
       "    <tr>\n",
       "      <td>8483</td>\n",
       "      <td>\"</td>\n",
       "      <td>\"</td>\n",
       "      <td>\"</td>\n",
       "      <td>PUNCT</td>\n",
       "      <td>False</td>\n",
       "    </tr>\n",
       "    <tr>\n",
       "      <td>1910</td>\n",
       "      <td>\"</td>\n",
       "      <td>\"</td>\n",
       "      <td>\"</td>\n",
       "      <td>PUNCT</td>\n",
       "      <td>False</td>\n",
       "    </tr>\n",
       "    <tr>\n",
       "      <td>3654</td>\n",
       "      <td>\"</td>\n",
       "      <td>\"</td>\n",
       "      <td>\"</td>\n",
       "      <td>PUNCT</td>\n",
       "      <td>False</td>\n",
       "    </tr>\n",
       "    <tr>\n",
       "      <td>5520</td>\n",
       "      <td>\"</td>\n",
       "      <td>\"</td>\n",
       "      <td>\"</td>\n",
       "      <td>PUNCT</td>\n",
       "      <td>False</td>\n",
       "    </tr>\n",
       "    <tr>\n",
       "      <td>8547</td>\n",
       "      <td>\"</td>\n",
       "      <td>\"</td>\n",
       "      <td>\"</td>\n",
       "      <td>PUNCT</td>\n",
       "      <td>False</td>\n",
       "    </tr>\n",
       "    <tr>\n",
       "      <td>5574</td>\n",
       "      <td>\"</td>\n",
       "      <td>\"</td>\n",
       "      <td>\"</td>\n",
       "      <td>PUNCT</td>\n",
       "      <td>False</td>\n",
       "    </tr>\n",
       "  </tbody>\n",
       "</table>\n",
       "</div>"
      ],
      "text/plain": [
       "     token norm lemma    pos  stopword\n",
       "893      !    !     !  PUNCT     False\n",
       "1913     \"    \"     \"  PUNCT     False\n",
       "8463     \"    \"     \"  PUNCT     False\n",
       "8470     \"    \"     \"  PUNCT     False\n",
       "8483     \"    \"     \"  PUNCT     False\n",
       "1910     \"    \"     \"  PUNCT     False\n",
       "3654     \"    \"     \"  PUNCT     False\n",
       "5520     \"    \"     \"  PUNCT     False\n",
       "8547     \"    \"     \"  PUNCT     False\n",
       "5574     \"    \"     \"  PUNCT     False"
      ]
     },
     "execution_count": 177,
     "metadata": {},
     "output_type": "execute_result"
    }
   ],
   "source": [
    "# We can sort dataframes!\n",
    "\n",
    "sorted = df.sort_values('norm')\n",
    "# To reverse sort\n",
    "# sorted = df.sort_values('norm', ascending=False)\n",
    "\n",
    "# Show the sorted table\n",
    "sorted.head(10)"
   ]
  },
  {
   "cell_type": "code",
   "execution_count": 178,
   "metadata": {},
   "outputs": [
    {
     "data": {
      "text/html": [
       "<div>\n",
       "<style scoped>\n",
       "    .dataframe tbody tr th:only-of-type {\n",
       "        vertical-align: middle;\n",
       "    }\n",
       "\n",
       "    .dataframe tbody tr th {\n",
       "        vertical-align: top;\n",
       "    }\n",
       "\n",
       "    .dataframe thead th {\n",
       "        text-align: right;\n",
       "    }\n",
       "</style>\n",
       "<table border=\"1\" class=\"dataframe\">\n",
       "  <thead>\n",
       "    <tr style=\"text-align: right;\">\n",
       "      <th></th>\n",
       "      <th>norm</th>\n",
       "    </tr>\n",
       "  </thead>\n",
       "  <tbody>\n",
       "    <tr>\n",
       "      <td>0</td>\n",
       "      <td>broken</td>\n",
       "    </tr>\n",
       "    <tr>\n",
       "      <td>1</td>\n",
       "      <td>elrond</td>\n",
       "    </tr>\n",
       "    <tr>\n",
       "      <td>2</td>\n",
       "      <td>earliest</td>\n",
       "    </tr>\n",
       "    <tr>\n",
       "      <td>3</td>\n",
       "      <td>memories</td>\n",
       "    </tr>\n",
       "    <tr>\n",
       "      <td>4</td>\n",
       "      <td>screams</td>\n",
       "    </tr>\n",
       "    <tr>\n",
       "      <td>5</td>\n",
       "      <td>smoke</td>\n",
       "    </tr>\n",
       "    <tr>\n",
       "      <td>6</td>\n",
       "      <td>screams</td>\n",
       "    </tr>\n",
       "    <tr>\n",
       "      <td>7</td>\n",
       "      <td>rose</td>\n",
       "    </tr>\n",
       "    <tr>\n",
       "      <td>8</td>\n",
       "      <td>battle</td>\n",
       "    </tr>\n",
       "    <tr>\n",
       "      <td>9</td>\n",
       "      <td>ringing</td>\n",
       "    </tr>\n",
       "  </tbody>\n",
       "</table>\n",
       "</div>"
      ],
      "text/plain": [
       "       norm\n",
       "0    broken\n",
       "1    elrond\n",
       "2  earliest\n",
       "3  memories\n",
       "4   screams\n",
       "5     smoke\n",
       "6   screams\n",
       "7      rose\n",
       "8    battle\n",
       "9   ringing"
      ]
     },
     "execution_count": 178,
     "metadata": {},
     "output_type": "execute_result"
    }
   ],
   "source": [
    "# We don't want punctuation, spaces, digits, and stop words in our table. Take them out!\n",
    "tokens = [token.norm_ for token in doc if token.pos_ not in ['PUNCT', 'SPACE'] and token.norm_.isdigit() == False and token.is_stop == False]\n",
    "\n",
    "# Create a pandas dataframe, this time with just the lower-cased tokens\n",
    "df = pd.DataFrame(tokens, columns=['norm'])\n",
    "df.head(10)"
   ]
  },
  {
   "cell_type": "code",
   "execution_count": 179,
   "metadata": {},
   "outputs": [
    {
     "data": {
      "text/html": [
       "<div>\n",
       "<style scoped>\n",
       "    .dataframe tbody tr th:only-of-type {\n",
       "        vertical-align: middle;\n",
       "    }\n",
       "\n",
       "    .dataframe tbody tr th {\n",
       "        vertical-align: top;\n",
       "    }\n",
       "\n",
       "    .dataframe thead th {\n",
       "        text-align: right;\n",
       "    }\n",
       "</style>\n",
       "<table border=\"1\" class=\"dataframe\">\n",
       "  <thead>\n",
       "    <tr style=\"text-align: right;\">\n",
       "      <th></th>\n",
       "      <th>norm</th>\n",
       "      <th>count</th>\n",
       "    </tr>\n",
       "  </thead>\n",
       "  <tbody>\n",
       "    <tr>\n",
       "      <td>0</td>\n",
       "      <td>elrond</td>\n",
       "      <td>149</td>\n",
       "    </tr>\n",
       "    <tr>\n",
       "      <td>1</td>\n",
       "      <td>ereinion</td>\n",
       "      <td>35</td>\n",
       "    </tr>\n",
       "    <tr>\n",
       "      <td>2</td>\n",
       "      <td>elros</td>\n",
       "      <td>33</td>\n",
       "    </tr>\n",
       "    <tr>\n",
       "      <td>3</td>\n",
       "      <td>celebrían</td>\n",
       "      <td>23</td>\n",
       "    </tr>\n",
       "    <tr>\n",
       "      <td>4</td>\n",
       "      <td>eyes</td>\n",
       "      <td>21</td>\n",
       "    </tr>\n",
       "    <tr>\n",
       "      <td>5</td>\n",
       "      <td>vilya</td>\n",
       "      <td>18</td>\n",
       "    </tr>\n",
       "    <tr>\n",
       "      <td>6</td>\n",
       "      <td>found</td>\n",
       "      <td>17</td>\n",
       "    </tr>\n",
       "    <tr>\n",
       "      <td>7</td>\n",
       "      <td>imladris</td>\n",
       "      <td>17</td>\n",
       "    </tr>\n",
       "    <tr>\n",
       "      <td>8</td>\n",
       "      <td>came</td>\n",
       "      <td>16</td>\n",
       "    </tr>\n",
       "    <tr>\n",
       "      <td>9</td>\n",
       "      <td>elves</td>\n",
       "      <td>15</td>\n",
       "    </tr>\n",
       "  </tbody>\n",
       "</table>\n",
       "</div>"
      ],
      "text/plain": [
       "        norm  count\n",
       "0     elrond    149\n",
       "1   ereinion     35\n",
       "2      elros     33\n",
       "3  celebrían     23\n",
       "4       eyes     21\n",
       "5      vilya     18\n",
       "6      found     17\n",
       "7   imladris     17\n",
       "8       came     16\n",
       "9      elves     15"
      ]
     },
     "execution_count": 179,
     "metadata": {},
     "output_type": "execute_result"
    }
   ],
   "source": [
    "# Get a dict of the norms and counts\n",
    "counts = df['norm'].value_counts().to_dict()\n",
    "\n",
    "# Convert it to a list of dicts and feed to a new dataframe\n",
    "counts = [{'norm': k, 'count': v} for k, v in counts.items()]\n",
    "counted = pd.DataFrame(counts, columns=['norm', 'count'])\n",
    "\n",
    "# Show the counts\n",
    "counted.head(10)"
   ]
  },
  {
   "cell_type": "code",
   "execution_count": 182,
   "metadata": {},
   "outputs": [
    {
     "data": {
      "image/png": "[encoded data removed]",
      "text/plain": [
       "<Figure size 432x288 with 1 Axes>"
      ]
     },
     "metadata": {
      "needs_background": "light"
     },
     "output_type": "display_data"
    }
   ],
   "source": [
    "# We can even do some fancy plotting using Python's matplotlib library\n",
    "import matplotlib.pyplot as plt\n",
    "\n",
    "# Some archane matplotlib stuff that experts understand and the rest of us Google\n",
    "ax = plt.gca()\n",
    "counted[0:10].plot(kind='line', x='norm', y='count', ax=ax, rot=90)\n",
    "plt.show()"
   ]
  },
  {
   "cell_type": "code",
   "execution_count": 107,
   "metadata": {},
   "outputs": [
    {
     "data": {
      "image/png": "[encoded data removed]",
      "text/plain": [
       "<Figure size 432x288 with 1 Axes>"
      ]
     },
     "metadata": {
      "needs_background": "light"
     },
     "output_type": "display_data"
    }
   ],
   "source": [
    "# Or we cna show it in a bar chart\n",
    "counted[0:10].plot(kind='bar', x='norm', y='count')\n",
    "plt.show()"
   ]
  },
  {
   "cell_type": "markdown",
   "metadata": {},
   "source": [
    "## `textacy`\n",
    "\n",
    "The Python `textacy` library builds on top of spaCy. Below we are going to create a corpus of texts by Tolkien fans using `textacy`. Then we'll use its built-in methods to do some analysis."
   ]
  },
  {
   "cell_type": "code",
   "execution_count": 184,
   "metadata": {},
   "outputs": [],
   "source": [
    "# Import textacy\n",
    "import textacy"
   ]
  },
  {
   "cell_type": "code",
   "execution_count": 185,
   "metadata": {},
   "outputs": [
    {
     "name": "stdout",
     "output_type": "stream",
     "text": [
      "ling to fathom the sudden sense of  war ning, and Elros clutched him harder\n",
      "t look at her sons and stepped back war d over the cliff's edge. The night \n",
      "ater years, it would be called the  War  of Wrath, but to Elrond, it was no\n",
      "Wrath, but to Elrond, it was not a  war . War he knew and war he had fought\n",
      ", but to Elrond, it was not a war.  War  he knew and war he had fought, but\n",
      " it was not a war. War he knew and  war  he had fought, but this… This was \n",
      "they walked in disbelief. The long  war  was over. Morgoth was gone! Elrond\n",
      "too young to remember the previous  war s, they felt keenly the love their \n",
      "y were not alone. Eönwë stepped for war d. None noted his arrival, but all \n",
      " in a livid Oropher who stepped for war d and leveled his spear tip at the \n",
      "ey chose different fates after the  War  of Wrath and even though they were\n",
      "ed Elros's passing, the music that  war ded his dreams was all that sustain\n",
      "imself as Sauron and declared open  war  upon Eregion, Elrond used the long\n",
      "ed it. Elrond had sent messages of  war ning about Annatar, and Ereinion ha\n",
      "d, and they made this clear in the  war nings they dispatched. But those wa\n",
      "arnings they dispatched. But those  war nings had gone unheeded. The guilt \n",
      "d could have done more than simply  war n. Indeed, he should have known mor\n",
      "Celeborn's inclination to heed the  war nings was almost reason enough for \n",
      "e lack of any evidence to back the  war nings compounded the problem. Perha\n",
      " of Arda, and he led his forces for war d. Every elf under his command sens\n",
      "rtive searching before they were re war ded. A whisper in the wind turned E\n",
      "attle were heard. They hastened for war d, and as the trees gave way before\n",
      "treat. Across the field, the orcs s war med thick as flies over carrion, an\n",
      "e stroke of fortune came from the d war ves, who issued forth from Khazad-d\n",
      "side to meet this threat, and the d war ves retreated back to Khazad-dûm, s\n",
      "new hope. After almost a decade of  war , Sauron was forced from the lands \n",
      "isty Mountains, and the passes east war d were opened to all Free Folk. It \n",
      "ilya bore down upon him, and well a war e of the ramifications should he fa\n",
      "f. And when Celebrían departed east war d over the mountains with her paren\n",
      "ing, but after many years and many  war s, it arrived. It was just as momen\n",
      "ncerned, \"Say on, my liege,\" but in war dly he had already decided to accep\n",
      " ago. But Ereinion interrupted and  war ned Elrond that he was not finished\n",
      " veiled, and Elrond took a step for war d as if to offer comfort. But then \n",
      "ck. Up until now, he had been a ste war d only of the Ring, fully anticipat\n",
      "t drove all thoughts of the coming  war  from his mind. Ereinion departed, \n",
      " broke with it, and he stumbled for war d as though wounded himself. There \n",
      " tears. -0-0-0-0-0- Elrond was fore war ned when it came to losing Arwen, b\n",
      "er, and something in his heart had  war ned this would not always be so. Ye\n",
      "ppreciate the significance of this  war ning. Or perhaps he did but chose t\n",
      "se hearts were firm. An elf and a d war f who kept their distance from one \n",
      "the sky above, Gil-Estel glinted a  war ning. Knowing his moment was over, \n",
      "moment was over, Elrond stepped for war d onto the porch. Mithrandir moved \n",
      "d saw both youthful ignorance and d war ven heritage—a strong heart, a rich\n",
      "oaths unfulfilled. But though the d war ves bound themselves to their vows,\n"
     ]
    }
   ],
   "source": [
    "# Get keywords in context (KWIC)\n",
    "textacy.text_utils.KWIC(text, 'war', window_width=35)"
   ]
  },
  {
   "cell_type": "code",
   "execution_count": 186,
   "metadata": {},
   "outputs": [
    {
     "data": {
      "text/plain": [
       "'Broken Elrond s earliest memories were of screams and smoke The screams rose up from the battle ring'"
      ]
     },
     "execution_count": 186,
     "metadata": {},
     "output_type": "execute_result"
    }
   ],
   "source": [
    "# Let's use textacy instead of list comprehensions to scrub\n",
    "from textacy import preprocessing\n",
    "normalized_text = preprocessing.normalize_whitespace(preprocessing.remove_punctuation(text))\n",
    "normalized_text = textacy.preprocessing.replace.replace_numbers(normalized_text, '')\n",
    "normalized_text[0:100]"
   ]
  },
  {
   "cell_type": "markdown",
   "metadata": {},
   "source": [
    "### Document statistics\n",
    "\n",
    "`textacy` can make spaCy docs. Once we have that done, we can use its `keywords` module to extract key phrases according to several different algoritms (the example shown below uses the \"TextRank\" algorithm).\n",
    "\n",
    "We can also get other kinds of statistics and even use `textacy` to produce term counts as we did above. "
   ]
  },
  {
   "cell_type": "code",
   "execution_count": 194,
   "metadata": {},
   "outputs": [
    {
     "name": "stdout",
     "output_type": "stream",
     "text": [
      "Textrank:\n",
      "[('0- Elrond', 0.009233980284544877), ('confusion Elrond', 0.008880351026987409), ('Elrond vice', 0.008877603881184378), ('Elrond conscious', 0.008804192653349202), ('Broken Elrond', 0.00872766385027007), ('request Ereinion', 0.0031421855899045185), ('burden Celebrían', 0.002976165084237309), ('0- Celebrían', 0.0027413767352524343), ('Celeborn time', 0.0026465825909142856), ('weary day', 0.002536598740043048)]\n"
     ]
    }
   ],
   "source": [
    "# Specify the language model and make a spaCy doc\n",
    "en = textacy.load_spacy_lang('en_core_web_sm')\n",
    "doc = textacy.make_spacy_doc(text, lang=en)\n",
    "\n",
    "# Import the keywords module\n",
    "import textacy.ke\n",
    "print('Textrank:')\n",
    "print(textacy.ke.textrank(doc, normalize='lemma', topn=10))"
   ]
  },
  {
   "cell_type": "code",
   "execution_count": 195,
   "metadata": {},
   "outputs": [
    {
     "data": {
      "text/plain": [
       "{'n_sents': 513,\n",
       " 'n_words': 7822,\n",
       " 'n_chars': 34362,\n",
       " 'n_syllables': 10223,\n",
       " 'n_unique_words': 1792,\n",
       " 'n_long_words': 1327,\n",
       " 'n_monosyllable_words': 5886,\n",
       " 'n_polysyllable_words': 402}"
      ]
     },
     "execution_count": 195,
     "metadata": {},
     "output_type": "execute_result"
    }
   ],
   "source": [
    "# Let's get some text statistics\n",
    "\n",
    "stats = textacy.TextStats(doc)\n",
    "stats.basic_counts"
   ]
  },
  {
   "cell_type": "code",
   "execution_count": 196,
   "metadata": {},
   "outputs": [
    {
     "data": {
      "text/plain": [
       "{'flesch_kincaid_grade_level': 5.778615675385517,\n",
       " 'flesch_reading_ease': 80.79035193633393,\n",
       " 'smog_index': 8.1861736632056,\n",
       " 'gunning_fog_index': 8.154765561023215,\n",
       " 'coleman_liau_index': 8.088887309383793,\n",
       " 'automated_readability_index': 6.884783977614994,\n",
       " 'lix': 32.21253394858207,\n",
       " 'gulpease_index': 64.74533367425211,\n",
       " 'wiener_sachtextformel': 2.408561603075845}"
      ]
     },
     "execution_count": 196,
     "metadata": {},
     "output_type": "execute_result"
    }
   ],
   "source": [
    "# What is the reading level for this text?\n",
    "\n",
    "stats.readability_stats"
   ]
  },
  {
   "cell_type": "code",
   "execution_count": 201,
   "metadata": {},
   "outputs": [
    {
     "data": {
      "text/html": [
       "<table border=\"1\" class=\"dataframe\">\n",
       "  <thead>\n",
       "    <tr style=\"text-align: right;\">\n",
       "      <th>Term</th>\n",
       "      <th>Frequency</th>\n",
       "    </tr>\n",
       "  </thead>\n",
       "  <tbody>\n",
       "    <tr>\n",
       "      <td>0</td>\n",
       "      <td>0.002700</td>\n",
       "    </tr>\n",
       "    <tr>\n",
       "      <td>come</td>\n",
       "      <td>0.002588</td>\n",
       "    </tr>\n",
       "    <tr>\n",
       "      <td>eye</td>\n",
       "      <td>0.002475</td>\n",
       "    </tr>\n",
       "    <tr>\n",
       "      <td>find</td>\n",
       "      <td>0.002363</td>\n",
       "    </tr>\n",
       "    <tr>\n",
       "      <td>Ereinion</td>\n",
       "      <td>0.002250</td>\n",
       "    </tr>\n",
       "    <tr>\n",
       "      <td>know</td>\n",
       "      <td>0.002250</td>\n",
       "    </tr>\n",
       "    <tr>\n",
       "      <td>time</td>\n",
       "      <td>0.002138</td>\n",
       "    </tr>\n",
       "    <tr>\n",
       "      <td>elf</td>\n",
       "      <td>0.002025</td>\n",
       "    </tr>\n",
       "    <tr>\n",
       "      <td>hope</td>\n",
       "      <td>0.001913</td>\n",
       "    </tr>\n",
       "    <tr>\n",
       "      <td>moment</td>\n",
       "      <td>0.001913</td>\n",
       "    </tr>\n",
       "    <tr>\n",
       "      <td>heart</td>\n",
       "      <td>0.001688</td>\n",
       "    </tr>\n",
       "    <tr>\n",
       "      <td>word</td>\n",
       "      <td>0.001688</td>\n",
       "    </tr>\n",
       "    <tr>\n",
       "      <td>see</td>\n",
       "      <td>0.001688</td>\n",
       "    </tr>\n",
       "    <tr>\n",
       "      <td>voice</td>\n",
       "      <td>0.001688</td>\n",
       "    </tr>\n",
       "    <tr>\n",
       "      <td>valley</td>\n",
       "      <td>0.001575</td>\n",
       "    </tr>\n",
       "  </tbody>\n",
       "</table>"
      ],
      "text/plain": [
       "<IPython.core.display.HTML object>"
      ]
     },
     "metadata": {},
     "output_type": "display_data"
    }
   ],
   "source": [
    "# Get a bag of words using frequencies instead of counts\n",
    "bow = doc._.to_bag_of_terms(ngrams=(1), entities=False, weighting=\"freq\", as_strings=True)\n",
    "\n",
    "# Let's look at this in a dataframe\n",
    "bow = [{'Term': k, 'Frequency': v} for k, v in bow.items()]\n",
    "bow_df = pd.DataFrame(bow, columns=['Term', 'Frequency'])\n",
    "bow_df = bow_df.sort_values('Frequency', ascending=False)\n",
    "snippet = bow_df.head(15)\n",
    "\n",
    "# This just hides the dataframe index in a jupyter notebook, which is more pleasant on the eye\n",
    "from IPython.display import display, HTML\n",
    "display(HTML(snippet.to_html(index=False)))"
   ]
  },
  {
   "cell_type": "markdown",
   "metadata": {},
   "source": [
    "So far, we've only played with one text. In the next notebook, we'll use `textacy` to build a corpus of texts and perform some low-level analysis."
   ]
  },
  {
   "cell_type": "code",
   "execution_count": null,
   "metadata": {},
   "outputs": [],
   "source": []
  }
 ],
 "metadata": {
  "kernelspec": {
   "display_name": "Python 3",
   "language": "python",
   "name": "python3"
  },
  "language_info": {
   "codemirror_mode": {
    "name": "ipython",
    "version": 3
   },
   "file_extension": ".py",
   "mimetype": "text/x-python",
   "name": "python",
   "nbconvert_exporter": "python",
   "pygments_lexer": "ipython3",
   "version": "3.7.4"
  }
 },
 "nbformat": 4,
 "nbformat_minor": 4
}
